{
 "cells": [
  {
   "cell_type": "markdown",
   "metadata": {},
   "source": [
    "# Navigation Project Report\n",
    "\n",
    "---\n",
    "\n",
    "## 1. Start the Environment\n",
    "\n",
    "Initiate [Banana Collector](https://github.com/Unity-Technologies/ml-agents/blob/master/docs/Learning-Environment-Examples.md#banana-collector) environment. If the code cell below returns an error, please revisit the project instructions to update and reinstall [Unity ML-Agents](https://github.com/Unity-Technologies/ml-agents/blob/master/docs/Installation.md#installation)."
   ]
  },
  {
   "cell_type": "code",
   "execution_count": 1,
   "metadata": {},
   "outputs": [
    {
     "name": "stderr",
     "output_type": "stream",
     "text": [
      "INFO:unityagents:\n",
      "'Academy' started successfully!\n",
      "Unity Academy name: Academy\n",
      "        Number of Brains: 1\n",
      "        Number of External Brains : 1\n",
      "        Lesson number : 0\n",
      "        Reset Parameters :\n",
      "\t\t\n",
      "Unity brain name: BananaBrain\n",
      "        Number of Visual Observations (per agent): 0\n",
      "        Vector Observation space type: continuous\n",
      "        Vector Observation space size (per agent): 37\n",
      "        Number of stacked Vector Observation: 1\n",
      "        Vector Action space type: discrete\n",
      "        Vector Action space size (per agent): 4\n",
      "        Vector Action descriptions: , , , \n"
     ]
    }
   ],
   "source": [
    "from unityagents import UnityEnvironment\n",
    "\n",
    "env = UnityEnvironment(file_name=\"/home/peyman/Projects/deep-reinforcement-learning/p1_navigation/Banana_Linux/Banana.x86_64\")"
   ]
  },
  {
   "cell_type": "markdown",
   "metadata": {},
   "source": [
    "\n",
    "### Environment description:\n",
    "\n",
    "1. Reward\n",
    "   - A reward of +1 is provided for collecting a yellow banana, and a reward of -1 is provided for collecting a blue banana. Thus, the goal of your agent is to collect as many yellow bananas as possible while avoiding blue bananas.\n",
    "2. State representation\n",
    "   - The state space has 37 dimensions and contains the agent's velocity, along with ray-based perception of objects around the agent's forward direction. \n",
    "3. Action abstraction\n",
    "   - Four discrete actions are available, corresponding to:\n",
    "        - 0: move forward.\n",
    "        - 1: move backward.\n",
    "        - 2: turn left.\n",
    "        - 3: turn right.\n",
    "4. Goal:\n",
    "    - To solve the environment, the agent must get an average score of +13 over 100 consecutive episodes."
   ]
  },
  {
   "cell_type": "markdown",
   "metadata": {},
   "source": [
    "## 2. Importing dependencies\n",
    "\n",
    "Import PyTorch and other dependencies for RL training."
   ]
  },
  {
   "cell_type": "code",
   "execution_count": 8,
   "metadata": {},
   "outputs": [
    {
     "name": "stdout",
     "output_type": "stream",
     "text": [
      "Requirement already satisfied: pyvirtualdisplay in /home/peyman/miniconda3/lib/python3.6/site-packages (0.2.1)\r\n",
      "Requirement already satisfied: EasyProcess in /home/peyman/miniconda3/lib/python3.6/site-packages (from pyvirtualdisplay) (0.2.5)\r\n"
     ]
    }
   ],
   "source": [
    "import numpy as np\n",
    "import torch\n",
    "from collections import deque\n",
    "import matplotlib.pyplot as plt\n",
    "%matplotlib inline\n",
    "\n",
    "\n",
    "!python -m pip install pyvirtualdisplay\n",
    "from pyvirtualdisplay import Display\n",
    "display = Display(visible=0, size=(1400, 900))\n",
    "display.start()\n",
    "\n",
    "is_ipython = 'inline' in plt.get_backend()\n",
    "if is_ipython:\n",
    "    from IPython import display\n",
    "\n",
    "plt.ion()"
   ]
  },
  {
   "cell_type": "markdown",
   "metadata": {},
   "source": [
    "## 3. Examine the State and Action Spaces\n",
    "\n",
    "Run the code cell below to print some information about the environment. \n",
    "\n",
    "Environments contain **_brains_** which are responsible for deciding the actions of their associated agents. Here we use the first brain available."
   ]
  },
  {
   "cell_type": "code",
   "execution_count": 9,
   "metadata": {},
   "outputs": [
    {
     "name": "stdout",
     "output_type": "stream",
     "text": [
      "Number of agents: 1\n",
      "Number of actions: 4\n",
      "States look like: [0.         1.         0.         0.         0.72253829 1.\n",
      " 0.         0.         0.         0.04995839 1.         0.\n",
      " 0.         0.         0.99393165 1.         0.         0.\n",
      " 0.         0.42544419 0.         0.         1.         0.\n",
      " 0.30007124 1.         0.         0.         0.         0.12359298\n",
      " 1.         0.         0.         0.         0.03675031 0.\n",
      " 0.        ]\n",
      "States have length: 37\n"
     ]
    }
   ],
   "source": [
    "# get the default brain\n",
    "brain_name = env.brain_names[0]\n",
    "brain = env.brains[brain_name]\n",
    "\n",
    "# reset the environment\n",
    "env_info = env.reset(train_mode=True)[brain_name]\n",
    "\n",
    "# number of agents in the environment\n",
    "print('Number of agents:', len(env_info.agents))\n",
    "\n",
    "# number of actions\n",
    "action_size = brain.vector_action_space_size\n",
    "print('Number of actions:', action_size)\n",
    "\n",
    "# examine the state space \n",
    "state = env_info.vector_observations[0]\n",
    "print('States look like:', state)\n",
    "state_size = len(state)\n",
    "print('States have length:', state_size)"
   ]
  },
  {
   "cell_type": "markdown",
   "metadata": {},
   "source": [
    "## 4. DQN Agent\n",
    "\n",
    "The next code cell initiates a DQN agent with 37 inputs and 4 output actions corresponding to the state-action space in Banana collector environment. The agent implements the vanilla DQN based on the [nature paper](https://web.stanford.edu/class/psych209/Readings/MnihEtAlHassibis15NatureControlDeepRL.pdf), where convolutional networks are replaced by fully connected networks.\n",
    "\n",
    "- The deep neural network has the following structure:\n",
    " - Fully connected layer + ReLU: input: 37 (state size) output: 32\n",
    " - Fully connected layer + ReLU: input: 32 output 32\n",
    " - Fully connected layer + ReLU: input: 32 output: 4 (action size)\n",
    "- Training parameters:\n",
    " - Maximum steps per episode: 1000\n",
    " - Starting epsilion: 1.0\n",
    " - Ending epsilion: 0.01\n",
    " - Epsilion decay rate: 0.995"
   ]
  },
  {
   "cell_type": "code",
   "execution_count": 10,
   "metadata": {},
   "outputs": [],
   "source": [
    "from dqn_agent import Agent\n",
    "\n",
    "agent = Agent(state_size=37, action_size=4, hidden_layers= [32,32], seed=0)"
   ]
  },
  {
   "cell_type": "markdown",
   "metadata": {},
   "source": [
    "## 5. Pre-training test\n",
    "\n",
    "The next code cells provide a function to test the agent implementation before starting the training process. Later, the evaluation function will also be used to test the trained agent."
   ]
  },
  {
   "cell_type": "code",
   "execution_count": 11,
   "metadata": {},
   "outputs": [],
   "source": [
    "def eval_agent(agent,train_mode):\n",
    "    \"\"\"Evaluate generic agent\n",
    "    \n",
    "    Params\n",
    "    ======\n",
    "        agent (Agent): agent under evaluation\n",
    "        train_mode (bool): train_mode for setting UnityEnvironment \n",
    "\n",
    "    Returns\n",
    "    ======\n",
    "        score (float): the accumulated reward\n",
    "    \"\"\"\n",
    "    env_info = env.reset(train_mode=train_mode)[brain_name] # reset the environment\n",
    "    state = env_info.vector_observations[0]            # get the current state\n",
    "    score = 0                                          # initialize the score\n",
    "    while True:\n",
    "        action = agent.act(state)                      # pass state to agent and get action\n",
    "        env_info = env.step(action)[brain_name]        # send the action to the environment\n",
    "        next_state = env_info.vector_observations[0]   # get the next state\n",
    "        reward = env_info.rewards[0]                   # get the reward\n",
    "        done = env_info.local_done[0]                  # see if episode has finished\n",
    "        score += reward                                # update the score\n",
    "        state = next_state                             # roll over the state to next time step\n",
    "        if done:                                       # exit loop if episode finished\n",
    "            break\n",
    "    return score"
   ]
  },
  {
   "cell_type": "markdown",
   "metadata": {},
   "source": [
    "Evaluate the initial agent. Since the agent is initialized randomly, the performance is quivalant to taking random action."
   ]
  },
  {
   "cell_type": "code",
   "execution_count": 6,
   "metadata": {},
   "outputs": [
    {
     "name": "stdout",
     "output_type": "stream",
     "text": [
      "Score: 0.0\n",
      "Score: -1.0\n",
      "Score: 2.0\n",
      "Score: 1.0\n",
      "Score: 0.0\n",
      "Score: -1.0\n",
      "Score: 0.0\n",
      "Score: 0.0\n",
      "Score: 5.0\n",
      "Score: 0.0\n"
     ]
    }
   ],
   "source": [
    "for episod in range(10):\n",
    "    score = eval_agent(agent=agent,train_mode=True) # to speed up the evaluation, set train_mode=True\n",
    "    print(\"Score: {}\".format(score))"
   ]
  },
  {
   "cell_type": "markdown",
   "metadata": {},
   "source": [
    "## 6. DQN Training\n",
    "\n",
    "The next code cell trains the agent. The training terminates when the average score exceeds 17 point or if the number of episodes reaches to `n_episodes` (set to 2000 here). The final model will be saved in `checkpoint.pth`."
   ]
  },
  {
   "cell_type": "code",
   "execution_count": null,
   "metadata": {},
   "outputs": [],
   "source": [
    "def train_dqn_agent(n_episodes=2000, max_t=1000, eps_start=1.0, eps_end=0.01, eps_decay=0.995):\n",
    "    \"\"\"Deep Q-Learning.\n",
    "    \n",
    "    Params\n",
    "    ======\n",
    "        n_episodes (int): maximum number of training episodes\n",
    "        max_t (int): maximum number of timesteps per episode\n",
    "        eps_start (float): starting value of epsilon, for epsilon-greedy action selection\n",
    "        eps_end (float): minimum value of epsilon\n",
    "        eps_decay (float): multiplicative factor (per episode) for decreasing epsilon\n",
    "    \"\"\"\n",
    "    scores = []                        # list containing scores from each episode\n",
    "    scores_window = deque(maxlen=100)  # last 100 scores\n",
    "    eps = eps_start                    # initialize epsilon\n",
    "    for i_episode in range(1, n_episodes+1):\n",
    "        env_info = env.reset(train_mode=True)[brain_name]\n",
    "        state = env_info.vector_observations[0]            \n",
    "        score = 0\n",
    "        for t in range(max_t):\n",
    "            action = agent.act(state, eps)\n",
    "            env_info = env.step(action)[brain_name]   \n",
    "            next_state = env_info.vector_observations[0]\n",
    "            reward = env_info.rewards[0]                  \n",
    "            done = env_info.local_done[0]\n",
    "            agent.step(state, action, reward, next_state, done)\n",
    "            state = next_state\n",
    "            score += reward\n",
    "            if done:\n",
    "                break \n",
    "        scores_window.append(score)       # save most recent score\n",
    "        scores.append(score)              # save most recent score\n",
    "        eps = max(eps_end, eps_decay*eps) # decrease epsilon\n",
    "        print('\\rEpisode {}\\tAverage Score: {:.2f}'.format(i_episode, np.mean(scores_window)), end=\"\")\n",
    "        if i_episode % 100 == 0:\n",
    "            print('\\rEpisode {}\\tAverage Score: {:.2f}'.format(i_episode, np.mean(scores_window)))\n",
    "        if np.mean(scores_window)>17.0:\n",
    "            print('\\nEnvironment solved in {:d} episodes!\\tAverage Score: {:.2f}'.format(i_episode-100, np.mean(scores_window)))\n",
    "            break\n",
    "    torch.save(agent.qnetwork_local.state_dict(), 'checkpoint.pth')\n",
    "    return scores\n",
    "\n",
    "scores = train_dqn_agent()\n",
    "\n",
    "# plot the scores\n",
    "fig = plt.figure()\n",
    "ax = fig.add_subplot(111)\n",
    "plt.plot(np.arange(len(scores)), scores)\n",
    "plt.ylabel('Score')\n",
    "plt.xlabel('Episode #')\n",
    "plt.show()"
   ]
  },
  {
   "cell_type": "markdown",
   "metadata": {},
   "source": [
    "```\n",
    "Episode 100     Average Score: 0.53\n",
    "Episode 200     Average Score: 3.04\n",
    "Episode 300     Average Score: 7.31\n",
    "Episode 400     Average Score: 9.53\n",
    "Episode 500     Average Score: 12.25\n",
    "Episode 600     Average Score: 14.07 --> (13+ average score in less than 600 episodes)\n",
    "Episode 700     Average Score: 14.71\n",
    "Episode 800     Average Score: 15.47\n",
    "Episode 900     Average Score: 15.98\n",
    "Episode 1000\tAverage Score: 16.28\n",
    "Episode 1100\tAverage Score: 16.39\n",
    "Episode 1200\tAverage Score: 16.39\n",
    "Episode 1300\tAverage Score: 16.42\n",
    "Episode 1400\tAverage Score: 16.44\n",
    "Episode 1500\tAverage Score: 16.34\n",
    "Episode 1600\tAverage Score: 16.31\n",
    "Episode 1700\tAverage Score: 16.34\n",
    "Episode 1800\tAverage Score: 16.60\n",
    "Episode 1900\tAverage Score: 16.96\n",
    "Episode 2000\tAverage Score: 16.29\n",
    "```"
   ]
  },
  {
   "cell_type": "markdown",
   "metadata": {},
   "source": [
    "![Training result](./training_plot.png)"
   ]
  },
  {
   "cell_type": "markdown",
   "metadata": {},
   "source": [
    "## 7. Post-training evaluation\n",
    "\n",
    "In the next code cell, we evaluate the agent perforamce after training."
   ]
  },
  {
   "cell_type": "code",
   "execution_count": 12,
   "metadata": {},
   "outputs": [
    {
     "name": "stdout",
     "output_type": "stream",
     "text": [
      "Episode 100\tAverage Score: 15.48\n",
      "Episode 200\tAverage Score: 16.62\n",
      "Episode 300\tAverage Score: 16.36\n"
     ]
    },
    {
     "data": {
      "image/png": "[encoded data removed]",
      "text/plain": [
       "<Figure size 432x288 with 1 Axes>"
      ]
     },
     "metadata": {
      "needs_background": "light"
     },
     "output_type": "display_data"
    }
   ],
   "source": [
    "def eval_dqn_agent(n_episodes=300, max_t=1000):\n",
    "    \"\"\"Deep Q-Learning.\n",
    "    \n",
    "    Params\n",
    "    ======\n",
    "        n_episodes (int): maximum number of training episodes\n",
    "        max_t (int): maximum number of timesteps per episode\n",
    "    \"\"\"\n",
    "    scores = []                        # list containing scores from each episode\n",
    "    scores_window = deque(maxlen=100)  # last 100 scores\n",
    "    for i_episode in range(1, n_episodes+1):          \n",
    "        score = eval_agent(agent=agent,train_mode=True)\n",
    "        scores_window.append(score)       # save most recent score\n",
    "        scores.append(score)              # save most recent score\n",
    "        print('\\rEpisode {}\\tAverage Score: {:.2f}'.format(i_episode, np.mean(scores_window)), end=\"\")\n",
    "        if i_episode % 100 == 0:\n",
    "            print('\\rEpisode {}\\tAverage Score: {:.2f}'.format(i_episode, np.mean(scores_window)))\n",
    "    return scores\n",
    "\n",
    "# load the weights from file\n",
    "agent.qnetwork_local.load_state_dict(torch.load('banana-32-32-checkpoint.pth'))\n",
    "\n",
    "# evaluate the trained DQN agent\n",
    "scores = eval_dqn_agent()\n",
    "\n",
    "# plot the scores\n",
    "fig = plt.figure()\n",
    "ax = fig.add_subplot(111)\n",
    "plt.plot(np.arange(len(scores)), scores)\n",
    "plt.ylabel('Score')\n",
    "plt.xlabel('Episode #')\n",
    "plt.show()"
   ]
  },
  {
   "cell_type": "markdown",
   "metadata": {},
   "source": [
    "Close the environment:"
   ]
  },
  {
   "cell_type": "code",
   "execution_count": null,
   "metadata": {},
   "outputs": [],
   "source": [
    "env.close()"
   ]
  },
  {
   "cell_type": "markdown",
   "metadata": {},
   "source": [
    "## 8. Ideas for future work\n",
    "\n",
    "1. Extensive hyperparameter optimization\n",
    "2. Double Deep Q Networks\n",
    "3. Prioritized Experience Replay\n",
    "4. Dueling Deep Q Networks\n",
    "5. RAINBOW Paper\n",
    "6. Learning from pixels"
   ]
  },
  {
   "cell_type": "code",
   "execution_count": null,
   "metadata": {},
   "outputs": [],
   "source": []
  }
 ],
 "metadata": {
  "kernelspec": {
   "display_name": "Python [conda env:drlnd]",
   "language": "python",
   "name": "conda-env-drlnd-py"
  },
  "language_info": {
   "codemirror_mode": {
    "name": "ipython",
    "version": 3
   },
   "file_extension": ".py",
   "mimetype": "text/x-python",
   "name": "python",
   "nbconvert_exporter": "python",
   "pygments_lexer": "ipython3",
   "version": "3.6.6"
  }
 },
 "nbformat": 4,
 "nbformat_minor": 2
}
